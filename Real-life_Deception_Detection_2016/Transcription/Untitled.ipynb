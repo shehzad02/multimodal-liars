{
 "cells": [
  {
   "cell_type": "code",
   "execution_count": 659,
   "id": "ac2044d2",
   "metadata": {},
   "outputs": [
    {
     "name": "stderr",
     "output_type": "stream",
     "text": [
      "[nltk_data] Downloading package punkt to\n",
      "[nltk_data]     C:\\Users\\abish\\AppData\\Roaming\\nltk_data...\n",
      "[nltk_data]   Package punkt is already up-to-date!\n",
      "[nltk_data] Downloading package stopwords to\n",
      "[nltk_data]     C:\\Users\\abish\\AppData\\Roaming\\nltk_data...\n",
      "[nltk_data]   Package stopwords is already up-to-date!\n"
     ]
    }
   ],
   "source": [
    "import pandas as pd\n",
    "import numpy as np\n",
    "import nltk\n",
    "nltk.download('punkt')\n",
    "import re\n",
    "import contractions\n",
    "import string\n",
    "nltk.download('stopwords')\n",
    "from gensim.models import Word2Vec\n",
    "from sklearn.svm import SVC\n",
    "from sklearn.linear_model import LogisticRegression\n",
    "from sklearn.naive_bayes import GaussianNB\n",
    "from sklearn.ensemble import RandomForestClassifier\n",
    "from sklearn.metrics import classification_report, roc_curve, auc, confusion_matrix, ConfusionMatrixDisplay\n",
    "from sklearn.metrics import accuracy_score, precision_score, recall_score, f1_score\n",
    "from statistics import mean\n",
    "import math\n",
    "from lazypredict.Supervised import LazyClassifier\n",
    "from sklearn.feature_extraction.text import CountVectorizer\n",
    "from sklearn.feature_extraction.text import TfidfVectorizer\n",
    "from sklearn.model_selection import train_test_split\n",
    "import matplotlib.pyplot as plt\n",
    "from sklearn.preprocessing import StandardScaler\n",
    "\n",
    "import glob\n",
    "from IPython.core.display import HTML"
   ]
  },
  {
   "cell_type": "code",
   "execution_count": 660,
   "id": "d795b8cf",
   "metadata": {},
   "outputs": [],
   "source": [
    "deceptive_files = glob.glob('./Deceptive/*.txt')\n",
    "dfs = []\n",
    "\n",
    "for file in deceptive_files:\n",
    "    with open(file, 'r', encoding='utf-8') as f:\n",
    "        text = f.read()\n",
    "        dfs.append([text, 0])\n",
    "\n",
    "deceptive_df = pd.DataFrame(dfs, columns=['Statement', 'Is_Truth'])"
   ]
  },
  {
   "cell_type": "code",
   "execution_count": 661,
   "id": "9254e4ab",
   "metadata": {},
   "outputs": [],
   "source": [
    "truthful_files = glob.glob('./Truthful/*.txt')\n",
    "dfs = []\n",
    "\n",
    "for file in truthful_files:\n",
    "    with open(file, 'r', encoding='utf-8') as f:\n",
    "        text = f.read()\n",
    "        dfs.append([text, 1])\n",
    "\n",
    "truthful_df = pd.DataFrame(dfs, columns=['Statement', 'Is_Truth'])"
   ]
  },
  {
   "cell_type": "code",
   "execution_count": 662,
   "id": "7764ae32",
   "metadata": {},
   "outputs": [],
   "source": [
    "combined_df = pd.concat([deceptive_df, truthful_df])"
   ]
  },
  {
   "cell_type": "code",
   "execution_count": 663,
   "id": "482eae7e",
   "metadata": {},
   "outputs": [
    {
     "data": {
      "text/plain": [
       "(61, 2)"
      ]
     },
     "execution_count": 663,
     "metadata": {},
     "output_type": "execute_result"
    }
   ],
   "source": [
    "deceptive_df.shape"
   ]
  },
  {
   "cell_type": "code",
   "execution_count": 664,
   "id": "5a27a3bc",
   "metadata": {},
   "outputs": [
    {
     "data": {
      "text/plain": [
       "(60, 2)"
      ]
     },
     "execution_count": 664,
     "metadata": {},
     "output_type": "execute_result"
    }
   ],
   "source": [
    "truthful_df.shape"
   ]
  },
  {
   "cell_type": "code",
   "execution_count": 665,
   "id": "c2cbc5a6",
   "metadata": {},
   "outputs": [
    {
     "data": {
      "text/plain": [
       "(121, 2)"
      ]
     },
     "execution_count": 665,
     "metadata": {},
     "output_type": "execute_result"
    }
   ],
   "source": [
    "combined_df.shape"
   ]
  },
  {
   "cell_type": "code",
   "execution_count": 697,
   "id": "6e42f4f8",
   "metadata": {},
   "outputs": [],
   "source": [
    "def preprocess_text(input_df):\n",
    "    input_df[\"tokens\"] = input_df[\"Statement\"].apply(lambda x: nltk.tokenize.sent_tokenize(x))\n",
    "    input_df[\"tokens\"] = input_df[\"tokens\"].apply(lambda x: [y.lower() for y in x])\n",
    "    input_df[\"tokens\"] = input_df[\"tokens\"].apply(lambda x: [re.sub('[0-9]', '', y) for y in x])\n",
    "    input_df[\"tokens\"] = input_df[\"tokens\"].apply(lambda x: [contractions.fix(y) for y in x])\n",
    "    input_df[\"tokens\"] = input_df[\"tokens\"].apply(lambda x: [y.translate(str.maketrans('', '', string.punctuation)) for y in x])\n",
    "    input_df[\"tokens\"] = input_df[\"tokens\"].apply(lambda x: [nltk.tokenize.word_tokenize(y) for y in x])\n",
    "    input_df[\"tokens\"] = input_df[\"tokens\"].apply(lambda x: [list(filter(lambda y: y not in set(nltk.corpus.stopwords.words('english')), y)) for y in x])\n",
    "    input_df[\"tokens\"] = input_df[\"tokens\"].apply(lambda x: [y for y in x if y != []])\n",
    "    return input_df"
   ]
  },
  {
   "cell_type": "code",
   "execution_count": 698,
   "id": "a64f4d24",
   "metadata": {},
   "outputs": [],
   "source": [
    "combined_df = preprocess_text(combined_df)"
   ]
  },
  {
   "cell_type": "code",
   "execution_count": 699,
   "id": "958a760b",
   "metadata": {},
   "outputs": [],
   "source": [
    "# X_train, X_test, y_train, y_test = train_test_split(combined_df['Statement'], combined_df['Is_Truth'], test_size=0.3, random_state = 42)"
   ]
  },
  {
   "cell_type": "markdown",
   "id": "9073784d",
   "metadata": {},
   "source": [
    "# TFIDF"
   ]
  },
  {
   "cell_type": "code",
   "execution_count": 700,
   "id": "143cdb7d",
   "metadata": {},
   "outputs": [],
   "source": [
    "new_combined_df = pd.DataFrame(columns=combined_df.columns)\n",
    "\n",
    "for index, row in combined_df.iterrows():\n",
    "    for s in row['tokens']:\n",
    "        if len(s) > 1:\n",
    "            d = {'Statement': row['Statement'], 'Is_Truth': row['Is_Truth'], 'tokens': (np.array(' '.join(s))).tolist()}\n",
    "            new_combined_df = pd.concat([new_combined_df, pd.DataFrame(data=d, index=[0])])"
   ]
  },
  {
   "cell_type": "code",
   "execution_count": 701,
   "id": "3389a0b4",
   "metadata": {},
   "outputs": [],
   "source": [
    "X_train, X_test, y_train, y_test = train_test_split(new_combined_df['tokens'], new_combined_df['Is_Truth'], stratify=new_combined_df['Is_Truth'], test_size=0.2, random_state = 42)"
   ]
  },
  {
   "cell_type": "code",
   "execution_count": 702,
   "id": "6df800ba",
   "metadata": {},
   "outputs": [],
   "source": [
    "vectorizer = TfidfVectorizer()"
   ]
  },
  {
   "cell_type": "code",
   "execution_count": 703,
   "id": "323b8c17",
   "metadata": {},
   "outputs": [],
   "source": [
    "# train_sent_df = []\n",
    "# test_sent_df = []\n",
    "\n",
    "# train_y = []\n",
    "# test_y = []\n",
    "\n",
    "# y_train = y_train.to_list()\n",
    "# y_test = y_test.to_list()\n",
    "\n",
    "# for idx, row in enumerate(X_train):\n",
    "#     for s in row:\n",
    "#         train_sent_df.append((np.array(' '.join(s))).tolist())\n",
    "#         train_y.append(y_train[idx])\n",
    "        \n",
    "# for idx, row in enumerate(X_test):\n",
    "#     for s in row:\n",
    "#         test_sent_df.append((np.array(' '.join(s))).tolist())\n",
    "#         test_y.append(y_test[idx])"
   ]
  },
  {
   "cell_type": "code",
   "execution_count": 704,
   "id": "b52a2175",
   "metadata": {},
   "outputs": [],
   "source": [
    "# x_train_tfidf = vectorizer.fit_transform(train_sent_df)\n",
    "# y_train_tfidf = train_y\n",
    "\n",
    "# x_test_tfidf = vectorizer.transform(test_sent_df)\n",
    "# y_test_tfidf = test_y\n",
    "\n",
    "x_train_tfidf = vectorizer.fit_transform(X_train.to_list())\n",
    "y_train_tfidf = y_train.astype('int')\n",
    "\n",
    "x_test_tfidf = vectorizer.transform(X_test.to_list())\n",
    "y_test_tfidf = y_test.astype('int')"
   ]
  },
  {
   "cell_type": "code",
   "execution_count": null,
   "id": "67d47403",
   "metadata": {},
   "outputs": [],
   "source": []
  },
  {
   "cell_type": "markdown",
   "id": "02a60960",
   "metadata": {},
   "source": [
    "## SVM"
   ]
  },
  {
   "cell_type": "code",
   "execution_count": 881,
   "id": "7a7c135b",
   "metadata": {},
   "outputs": [
    {
     "data": {
      "text/html": [
       "<style>#sk-container-id-157 {color: black;background-color: white;}#sk-container-id-157 pre{padding: 0;}#sk-container-id-157 div.sk-toggleable {background-color: white;}#sk-container-id-157 label.sk-toggleable__label {cursor: pointer;display: block;width: 100%;margin-bottom: 0;padding: 0.3em;box-sizing: border-box;text-align: center;}#sk-container-id-157 label.sk-toggleable__label-arrow:before {content: \"▸\";float: left;margin-right: 0.25em;color: #696969;}#sk-container-id-157 label.sk-toggleable__label-arrow:hover:before {color: black;}#sk-container-id-157 div.sk-estimator:hover label.sk-toggleable__label-arrow:before {color: black;}#sk-container-id-157 div.sk-toggleable__content {max-height: 0;max-width: 0;overflow: hidden;text-align: left;background-color: #f0f8ff;}#sk-container-id-157 div.sk-toggleable__content pre {margin: 0.2em;color: black;border-radius: 0.25em;background-color: #f0f8ff;}#sk-container-id-157 input.sk-toggleable__control:checked~div.sk-toggleable__content {max-height: 200px;max-width: 100%;overflow: auto;}#sk-container-id-157 input.sk-toggleable__control:checked~label.sk-toggleable__label-arrow:before {content: \"▾\";}#sk-container-id-157 div.sk-estimator input.sk-toggleable__control:checked~label.sk-toggleable__label {background-color: #d4ebff;}#sk-container-id-157 div.sk-label input.sk-toggleable__control:checked~label.sk-toggleable__label {background-color: #d4ebff;}#sk-container-id-157 input.sk-hidden--visually {border: 0;clip: rect(1px 1px 1px 1px);clip: rect(1px, 1px, 1px, 1px);height: 1px;margin: -1px;overflow: hidden;padding: 0;position: absolute;width: 1px;}#sk-container-id-157 div.sk-estimator {font-family: monospace;background-color: #f0f8ff;border: 1px dotted black;border-radius: 0.25em;box-sizing: border-box;margin-bottom: 0.5em;}#sk-container-id-157 div.sk-estimator:hover {background-color: #d4ebff;}#sk-container-id-157 div.sk-parallel-item::after {content: \"\";width: 100%;border-bottom: 1px solid gray;flex-grow: 1;}#sk-container-id-157 div.sk-label:hover label.sk-toggleable__label {background-color: #d4ebff;}#sk-container-id-157 div.sk-serial::before {content: \"\";position: absolute;border-left: 1px solid gray;box-sizing: border-box;top: 0;bottom: 0;left: 50%;z-index: 0;}#sk-container-id-157 div.sk-serial {display: flex;flex-direction: column;align-items: center;background-color: white;padding-right: 0.2em;padding-left: 0.2em;position: relative;}#sk-container-id-157 div.sk-item {position: relative;z-index: 1;}#sk-container-id-157 div.sk-parallel {display: flex;align-items: stretch;justify-content: center;background-color: white;position: relative;}#sk-container-id-157 div.sk-item::before, #sk-container-id-157 div.sk-parallel-item::before {content: \"\";position: absolute;border-left: 1px solid gray;box-sizing: border-box;top: 0;bottom: 0;left: 50%;z-index: -1;}#sk-container-id-157 div.sk-parallel-item {display: flex;flex-direction: column;z-index: 1;position: relative;background-color: white;}#sk-container-id-157 div.sk-parallel-item:first-child::after {align-self: flex-end;width: 50%;}#sk-container-id-157 div.sk-parallel-item:last-child::after {align-self: flex-start;width: 50%;}#sk-container-id-157 div.sk-parallel-item:only-child::after {width: 0;}#sk-container-id-157 div.sk-dashed-wrapped {border: 1px dashed gray;margin: 0 0.4em 0.5em 0.4em;box-sizing: border-box;padding-bottom: 0.4em;background-color: white;}#sk-container-id-157 div.sk-label label {font-family: monospace;font-weight: bold;display: inline-block;line-height: 1.2em;}#sk-container-id-157 div.sk-label-container {text-align: center;}#sk-container-id-157 div.sk-container {/* jupyter's `normalize.less` sets `[hidden] { display: none; }` but bootstrap.min.css set `[hidden] { display: none !important; }` so we also need the `!important` here to be able to override the default hidden behavior on the sphinx rendered scikit-learn.org. See: https://github.com/scikit-learn/scikit-learn/issues/21755 */display: inline-block !important;position: relative;}#sk-container-id-157 div.sk-text-repr-fallback {display: none;}</style><div id=\"sk-container-id-157\" class=\"sk-top-container\"><div class=\"sk-text-repr-fallback\"><pre>SVC(C=2, kernel=&#x27;sigmoid&#x27;, probability=True)</pre><b>In a Jupyter environment, please rerun this cell to show the HTML representation or trust the notebook. <br />On GitHub, the HTML representation is unable to render, please try loading this page with nbviewer.org.</b></div><div class=\"sk-container\" hidden><div class=\"sk-item\"><div class=\"sk-estimator sk-toggleable\"><input class=\"sk-toggleable__control sk-hidden--visually\" id=\"sk-estimator-id-157\" type=\"checkbox\" checked><label for=\"sk-estimator-id-157\" class=\"sk-toggleable__label sk-toggleable__label-arrow\">SVC</label><div class=\"sk-toggleable__content\"><pre>SVC(C=2, kernel=&#x27;sigmoid&#x27;, probability=True)</pre></div></div></div></div></div>"
      ],
      "text/plain": [
       "SVC(C=2, kernel='sigmoid', probability=True)"
      ]
     },
     "execution_count": 881,
     "metadata": {},
     "output_type": "execute_result"
    }
   ],
   "source": [
    "svc = SVC(probability=True, kernel=\"sigmoid\", C=2)\n",
    "#svc = SVC(probability=True, kernel=\"linear\")\n",
    "svc.fit(pd.DataFrame(x_train_tfidf.toarray()), pd.DataFrame(y_train_tfidf))"
   ]
  },
  {
   "cell_type": "code",
   "execution_count": 882,
   "id": "08c788ef",
   "metadata": {},
   "outputs": [],
   "source": [
    "pred = svc.predict(pd.DataFrame(x_test_tfidf.toarray()))\n",
    "pred_proba = svc.predict_proba(pd.DataFrame(x_test_tfidf.toarray()))"
   ]
  },
  {
   "cell_type": "code",
   "execution_count": 883,
   "id": "9ab74b6b",
   "metadata": {},
   "outputs": [
    {
     "name": "stdout",
     "output_type": "stream",
     "text": [
      "              precision    recall  f1-score   support\n",
      "\n",
      "           0       0.79      0.71      0.75        42\n",
      "           1       0.72      0.79      0.76        39\n",
      "\n",
      "    accuracy                           0.75        81\n",
      "   macro avg       0.76      0.75      0.75        81\n",
      "weighted avg       0.76      0.75      0.75        81\n",
      "\n"
     ]
    }
   ],
   "source": [
    "print(classification_report(pred, y_test_tfidf))"
   ]
  },
  {
   "cell_type": "code",
   "execution_count": 884,
   "id": "63a40738",
   "metadata": {},
   "outputs": [
    {
     "data": {
      "text/plain": [
       "Text(0.5, 1.0, 'Confusion Matrix')"
      ]
     },
     "execution_count": 884,
     "metadata": {},
     "output_type": "execute_result"
    },
    {
     "data": {
      "image/png": "[encoded data removed]",
      "text/plain": [
       "<Figure size 200x200 with 1 Axes>"
      ]
     },
     "metadata": {},
     "output_type": "display_data"
    }
   ],
   "source": [
    "disp = ConfusionMatrixDisplay(confusion_matrix(np.array(y_test_tfidf).ravel(), pred))\n",
    "\n",
    "fig, ax = plt.subplots(figsize=(2,2))\n",
    "disp.plot(\n",
    "    include_values=True,\n",
    "    cmap='Blues',\n",
    "    colorbar=False,\n",
    "    ax=ax\n",
    ")\n",
    "disp.ax_.set_title(f\"Confusion Matrix\")"
   ]
  },
  {
   "cell_type": "code",
   "execution_count": 885,
   "id": "fd50b061",
   "metadata": {},
   "outputs": [
    {
     "data": {
      "text/plain": [
       "(323,)"
      ]
     },
     "execution_count": 885,
     "metadata": {},
     "output_type": "execute_result"
    }
   ],
   "source": [
    "X_train.shape"
   ]
  },
  {
   "cell_type": "code",
   "execution_count": 710,
   "id": "16ed2783",
   "metadata": {},
   "outputs": [
    {
     "data": {
      "text/plain": [
       "(81,)"
      ]
     },
     "execution_count": 710,
     "metadata": {},
     "output_type": "execute_result"
    }
   ],
   "source": [
    "X_test.shape"
   ]
  },
  {
   "cell_type": "code",
   "execution_count": 711,
   "id": "2bfa42b1",
   "metadata": {},
   "outputs": [
    {
     "data": {
      "text/plain": [
       "216"
      ]
     },
     "execution_count": 711,
     "metadata": {},
     "output_type": "execute_result"
    }
   ],
   "source": [
    "len(new_combined_df[(new_combined_df[\"Is_Truth\"]==1)])"
   ]
  },
  {
   "cell_type": "code",
   "execution_count": 712,
   "id": "664b3684",
   "metadata": {},
   "outputs": [
    {
     "data": {
      "text/plain": [
       "(404, 3)"
      ]
     },
     "execution_count": 712,
     "metadata": {},
     "output_type": "execute_result"
    }
   ],
   "source": [
    "new_combined_df.shape"
   ]
  },
  {
   "cell_type": "code",
   "execution_count": 717,
   "id": "c2e00964",
   "metadata": {},
   "outputs": [
    {
     "data": {
      "text/plain": [
       "(323, 1142)"
      ]
     },
     "execution_count": 717,
     "metadata": {},
     "output_type": "execute_result"
    }
   ],
   "source": [
    "x_train_tfidf.toarray()"
   ]
  },
  {
   "cell_type": "code",
   "execution_count": 720,
   "id": "d6d90973",
   "metadata": {},
   "outputs": [
    {
     "data": {
      "text/plain": [
       "(81, 1142)"
      ]
     },
     "execution_count": 720,
     "metadata": {},
     "output_type": "execute_result"
    }
   ],
   "source": [
    "x_test_tfidf.shape"
   ]
  },
  {
   "cell_type": "code",
   "execution_count": 887,
   "id": "3a7b5ba8",
   "metadata": {},
   "outputs": [
    {
     "data": {
      "text/plain": [
       "['text_SVC.pkl']"
      ]
     },
     "execution_count": 887,
     "metadata": {},
     "output_type": "execute_result"
    }
   ],
   "source": [
    "import joblib\n",
    "joblib.dump(svc, 'text_SVC.pkl')"
   ]
  },
  {
   "cell_type": "code",
   "execution_count": null,
   "id": "25d991ed",
   "metadata": {},
   "outputs": [],
   "source": []
  }
 ],
 "metadata": {
  "kernelspec": {
   "display_name": "Python 3 (ipykernel)",
   "language": "python",
   "name": "python3"
  },
  "language_info": {
   "codemirror_mode": {
    "name": "ipython",
    "version": 3
   },
   "file_extension": ".py",
   "mimetype": "text/x-python",
   "name": "python",
   "nbconvert_exporter": "python",
   "pygments_lexer": "ipython3",
   "version": "3.9.0"
  }
 },
 "nbformat": 4,
 "nbformat_minor": 5
}
