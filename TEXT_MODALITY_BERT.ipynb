{
 "cells": [
  {
   "cell_type": "code",
   "execution_count": 22,
   "id": "239cef13",
   "metadata": {},
   "outputs": [],
   "source": [
    "import pandas as pd\n",
    "import numpy as np\n",
    "\n",
    "from sklearn.model_selection import train_test_split\n",
    "from sklearn.metrics import accuracy_score, precision_score, recall_score, f1_score\n",
    "from sklearn.metrics import confusion_matrix\n",
    "import seaborn as sns\n",
    "import matplotlib.pyplot as plt\n",
    "\n",
    "import torch\n",
    "from transformers import BertTokenizer, BertForSequenceClassification\n",
    "from torch.utils.data import TensorDataset, random_split\n",
    "from torch.utils.data import DataLoader, RandomSampler, SequentialSampler\n",
    "\n",
    "from lazypredict.Supervised import LazyClassifier, LazyRegressor\n",
    "\n",
    "import glob\n",
    "\n",
    "from IPython.core.display import HTML"
   ]
  },
  {
   "cell_type": "code",
   "execution_count": 23,
   "id": "49ad3085",
   "metadata": {},
   "outputs": [],
   "source": [
    "deceptive_files = glob.glob('./Deceptive/*.txt')\n",
    "dfs = []\n",
    "\n",
    "for file in deceptive_files:\n",
    "    with open(file, 'r', encoding='utf-8') as f:\n",
    "        text = f.read()\n",
    "        dfs.append([text, 0])\n",
    "\n",
    "deceptive_df = pd.DataFrame(dfs, columns=['Statement', 'Is_Truth'])"
   ]
  },
  {
   "cell_type": "code",
   "execution_count": 24,
   "id": "f07cfd4f",
   "metadata": {},
   "outputs": [],
   "source": [
    "truthful_files = glob.glob('./Truthful/*.txt')\n",
    "dfs = []\n",
    "\n",
    "for file in truthful_files:\n",
    "    with open(file, 'r', encoding='utf-8') as f:\n",
    "        text = f.read()\n",
    "        dfs.append([text, 1])\n",
    "\n",
    "truthful_df = pd.DataFrame(dfs, columns=['Statement', 'Is_Truth'])"
   ]
  },
  {
   "cell_type": "code",
   "execution_count": 25,
   "id": "8d4b80c2",
   "metadata": {},
   "outputs": [],
   "source": [
    "combined_df = pd.concat([deceptive_df, truthful_df])"
   ]
  },
  {
   "cell_type": "code",
   "execution_count": 26,
   "id": "571e6211",
   "metadata": {},
   "outputs": [
    {
     "data": {
      "text/html": [
       "<div>\n",
       "<style scoped>\n",
       "    .dataframe tbody tr th:only-of-type {\n",
       "        vertical-align: middle;\n",
       "    }\n",
       "\n",
       "    .dataframe tbody tr th {\n",
       "        vertical-align: top;\n",
       "    }\n",
       "\n",
       "    .dataframe thead th {\n",
       "        text-align: right;\n",
       "    }\n",
       "</style>\n",
       "<table border=\"1\" class=\"dataframe\">\n",
       "  <thead>\n",
       "    <tr style=\"text-align: right;\">\n",
       "      <th></th>\n",
       "      <th>Statement</th>\n",
       "      <th>Is_Truth</th>\n",
       "    </tr>\n",
       "  </thead>\n",
       "  <tbody>\n",
       "    <tr>\n",
       "      <th>0</th>\n",
       "      <td>No sir I did not. I absolutely did not. No sir...</td>\n",
       "      <td>0</td>\n",
       "    </tr>\n",
       "    <tr>\n",
       "      <th>1</th>\n",
       "      <td>... and she approached me, and at that time th...</td>\n",
       "      <td>0</td>\n",
       "    </tr>\n",
       "    <tr>\n",
       "      <th>2</th>\n",
       "      <td>No sir I was not, not at all.</td>\n",
       "      <td>0</td>\n",
       "    </tr>\n",
       "    <tr>\n",
       "      <th>3</th>\n",
       "      <td>He had told me that he had had a dream that, a...</td>\n",
       "      <td>0</td>\n",
       "    </tr>\n",
       "    <tr>\n",
       "      <th>4</th>\n",
       "      <td>And he told me that, ammm … he was trying to f...</td>\n",
       "      <td>0</td>\n",
       "    </tr>\n",
       "    <tr>\n",
       "      <th>...</th>\n",
       "      <td>...</td>\n",
       "      <td>...</td>\n",
       "    </tr>\n",
       "    <tr>\n",
       "      <th>55</th>\n",
       "      <td>Mmm initially ... I've never been on Twitter, ...</td>\n",
       "      <td>1</td>\n",
       "    </tr>\n",
       "    <tr>\n",
       "      <th>56</th>\n",
       "      <td>I was born in Durango, Colorado. My mother was...</td>\n",
       "      <td>1</td>\n",
       "    </tr>\n",
       "    <tr>\n",
       "      <th>57</th>\n",
       "      <td>Um whenever I was little, um my oldest nephew ...</td>\n",
       "      <td>1</td>\n",
       "    </tr>\n",
       "    <tr>\n",
       "      <th>58</th>\n",
       "      <td>We were married for two years, and um, we divo...</td>\n",
       "      <td>1</td>\n",
       "    </tr>\n",
       "    <tr>\n",
       "      <th>59</th>\n",
       "      <td>Yes um, Reginald and I would have like long ta...</td>\n",
       "      <td>1</td>\n",
       "    </tr>\n",
       "  </tbody>\n",
       "</table>\n",
       "<p>121 rows × 2 columns</p>\n",
       "</div>"
      ],
      "text/plain": [
       "                                            Statement  Is_Truth\n",
       "0   No sir I did not. I absolutely did not. No sir...         0\n",
       "1   ... and she approached me, and at that time th...         0\n",
       "2                       No sir I was not, not at all.         0\n",
       "3   He had told me that he had had a dream that, a...         0\n",
       "4   And he told me that, ammm … he was trying to f...         0\n",
       "..                                                ...       ...\n",
       "55  Mmm initially ... I've never been on Twitter, ...         1\n",
       "56  I was born in Durango, Colorado. My mother was...         1\n",
       "57  Um whenever I was little, um my oldest nephew ...         1\n",
       "58  We were married for two years, and um, we divo...         1\n",
       "59  Yes um, Reginald and I would have like long ta...         1\n",
       "\n",
       "[121 rows x 2 columns]"
      ]
     },
     "execution_count": 26,
     "metadata": {},
     "output_type": "execute_result"
    }
   ],
   "source": [
    "combined_df"
   ]
  },
  {
   "cell_type": "code",
   "execution_count": 27,
   "id": "30b2ccfc",
   "metadata": {},
   "outputs": [
    {
     "name": "stderr",
     "output_type": "stream",
     "text": [
      "Some weights of the model checkpoint at bert-base-uncased were not used when initializing BertForSequenceClassification: ['cls.predictions.decoder.weight', 'cls.predictions.transform.dense.weight', 'cls.predictions.transform.dense.bias', 'cls.predictions.bias', 'cls.predictions.transform.LayerNorm.bias', 'cls.predictions.transform.LayerNorm.weight', 'cls.seq_relationship.weight', 'cls.seq_relationship.bias']\n",
      "- This IS expected if you are initializing BertForSequenceClassification from the checkpoint of a model trained on another task or with another architecture (e.g. initializing a BertForSequenceClassification model from a BertForPreTraining model).\n",
      "- This IS NOT expected if you are initializing BertForSequenceClassification from the checkpoint of a model that you expect to be exactly identical (initializing a BertForSequenceClassification model from a BertForSequenceClassification model).\n",
      "Some weights of BertForSequenceClassification were not initialized from the model checkpoint at bert-base-uncased and are newly initialized: ['classifier.weight', 'classifier.bias']\n",
      "You should probably TRAIN this model on a down-stream task to be able to use it for predictions and inference.\n"
     ]
    }
   ],
   "source": [
    "tokenizer = BertTokenizer.from_pretrained('bert-base-uncased')\n",
    "model = BertForSequenceClassification.from_pretrained('bert-base-uncased', num_labels=2)"
   ]
  },
  {
   "cell_type": "code",
   "execution_count": 28,
   "id": "351caaa8",
   "metadata": {},
   "outputs": [],
   "source": [
    "def tokenize(text):\n",
    "    try:\n",
    "        output = tokenizer.encode_plus(text, add_special_tokens = True, max_length = 64, pad_to_max_length = True, return_attention_mask = True, return_tensors = 'pt')\n",
    "        return (output['input_ids'], output['attention_mask'])\n",
    "    except:\n",
    "        return None"
   ]
  },
  {
   "cell_type": "code",
   "execution_count": 29,
   "id": "a9ac192e",
   "metadata": {},
   "outputs": [
    {
     "name": "stderr",
     "output_type": "stream",
     "text": [
      "Truncation was not explicitly activated but `max_length` is provided a specific value, please use `truncation=True` to explicitly truncate examples to max length. Defaulting to 'longest_first' truncation strategy. If you encode pairs of sequences (GLUE-style) with the tokenizer you can select this strategy more precisely by providing a specific strategy to `truncation`.\n"
     ]
    }
   ],
   "source": [
    "input_ids = []\n",
    "attention_masks = []\n",
    "\n",
    "for x in combined_df['Statement']:\n",
    "    tkns = tokenize(x)\n",
    "    input_ids.append(tkns[0])\n",
    "    attention_masks.append(tkns[1])\n",
    "\n",
    "combined_df['input_ids'] = input_ids\n",
    "combined_df['attention_masks'] = attention_masks"
   ]
  },
  {
   "cell_type": "code",
   "execution_count": 30,
   "id": "cd7f759b",
   "metadata": {},
   "outputs": [],
   "source": [
    "tensor_df = TensorDataset(torch.cat(list(combined_df['input_ids'])), torch.cat(list(combined_df['attention_masks'])), torch.tensor(list(combined_df['Is_Truth'])))"
   ]
  },
  {
   "cell_type": "code",
   "execution_count": 31,
   "id": "26d72768",
   "metadata": {},
   "outputs": [],
   "source": [
    "train_size = int(0.7 * len(tensor_df))\n",
    "test_size = len(tensor_df) - train_size\n",
    "\n",
    "train_dataset, test_dataset = random_split(tensor_df, [train_size, test_size])"
   ]
  },
  {
   "cell_type": "code",
   "execution_count": 42,
   "id": "bdda7214",
   "metadata": {},
   "outputs": [],
   "source": [
    "batch_size = 10\n",
    "\n",
    "train_dataloader = DataLoader(train_dataset, sampler = RandomSampler(train_dataset), batch_size = batch_size)\n",
    "\n",
    "device = torch.device('cuda' if torch.cuda.is_available() else 'cpu')\n",
    "model.to(device)\n",
    "\n",
    "optimizer = torch.optim.Adam(model.parameters(), lr=2e-5, eps=1e-8)"
   ]
  },
  {
   "cell_type": "code",
   "execution_count": 43,
   "id": "a5aec2d1",
   "metadata": {},
   "outputs": [
    {
     "name": "stdout",
     "output_type": "stream",
     "text": [
      "Accuracy: 0.5405\n",
      "Precision: 0.5525\n",
      "Recall: 0.5405\n",
      "F1 Score: 0.5261\n"
     ]
    }
   ],
   "source": [
    "model.eval()\n",
    "\n",
    "test_dataloader = DataLoader(test_dataset, batch_size=batch_size, shuffle=False)\n",
    "\n",
    "true_labels = []\n",
    "pred_labels = []\n",
    "\n",
    "for batch in test_dataloader:\n",
    "    batch = tuple(t.to(device) for t in batch)\n",
    "    input_ids, attention_mask, labels = batch\n",
    "    \n",
    "    with torch.no_grad():\n",
    "        outputs = model(input_ids, attention_mask=attention_mask)\n",
    "        logits = outputs.logits\n",
    "        \n",
    "        logits = logits.detach().cpu().numpy()\n",
    "        labels = labels.to('cpu').numpy()\n",
    "        \n",
    "        true_labels.extend(labels)\n",
    "        pred_labels.extend(np.argmax(logits, axis=1).flatten())\n",
    "\n",
    "# Calculate evaluation metrics\n",
    "accuracy = accuracy_score(true_labels, pred_labels)\n",
    "precision = precision_score(true_labels, pred_labels, average='weighted')\n",
    "recall = recall_score(true_labels, pred_labels, average='weighted')\n",
    "f1 = f1_score(true_labels, pred_labels, average='weighted')\n",
    "\n",
    "# Print the evaluation metrics\n",
    "print(f\"Accuracy: {accuracy:.4f}\")\n",
    "print(f\"Precision: {precision:.4f}\")\n",
    "print(f\"Recall: {recall:.4f}\")\n",
    "print(f\"F1 Score: {f1:.4f}\")"
   ]
  },
  {
   "cell_type": "code",
   "execution_count": 44,
   "id": "b3256eb8",
   "metadata": {},
   "outputs": [
    {
     "data": {
      "image/png": "[encoded data removed]",
      "text/plain": [
       "<Figure size 300x300 with 1 Axes>"
      ]
     },
     "metadata": {},
     "output_type": "display_data"
    }
   ],
   "source": [
    "# Define the label names\n",
    "label_names = ['negative', 'positive']\n",
    "\n",
    "# Create a dictionary that maps label ids to label names\n",
    "labels_map = {i: label_name for i, label_name in enumerate(label_names)}\n",
    "\n",
    "# Calculate the confusion matrix\n",
    "cm = confusion_matrix(true_labels, pred_labels)\n",
    "\n",
    "# Plot the confusion matrix using seaborn\n",
    "plt.figure(figsize=(3, 3))\n",
    "sns.heatmap(cm, annot=True, cmap='Blues', fmt='g', cbar=False, square=True, \n",
    "            xticklabels=labels_map.values(), yticklabels=labels_map.values())\n",
    "plt.xlabel('Predicted label')\n",
    "plt.ylabel('True label')\n",
    "plt.show()"
   ]
  },
  {
   "cell_type": "code",
   "execution_count": 45,
   "id": "10d81fa4",
   "metadata": {},
   "outputs": [],
   "source": [
    "# x = pd.DataFrame(tokenizer.convert_ids_to_tokens(x) for x in combined_df['input_ids'])\n",
    "# X_train, X_test, y_train, y_test = train_test_split(x, combined_df['Is_Truth'], test_size=.2, random_state=42)\n",
    "    \n",
    "# clf = LazyClassifier(predictions=True)\n",
    "# models, predictions = clf.fit(pd.DataFrame(X_train), pd.DataFrame(X_test), pd.DataFrame(Y_train), pd.DataFrame(Y_test))"
   ]
  },
  {
   "cell_type": "code",
   "execution_count": null,
   "id": "03a131e7",
   "metadata": {},
   "outputs": [],
   "source": []
  },
  {
   "cell_type": "code",
   "execution_count": null,
   "id": "e9969a46",
   "metadata": {},
   "outputs": [],
   "source": []
  }
 ],
 "metadata": {
  "kernelspec": {
   "display_name": "Python 3 (ipykernel)",
   "language": "python",
   "name": "python3"
  },
  "language_info": {
   "codemirror_mode": {
    "name": "ipython",
    "version": 3
   },
   "file_extension": ".py",
   "mimetype": "text/x-python",
   "name": "python",
   "nbconvert_exporter": "python",
   "pygments_lexer": "ipython3",
   "version": "3.9.0"
  }
 },
 "nbformat": 4,
 "nbformat_minor": 5
}
